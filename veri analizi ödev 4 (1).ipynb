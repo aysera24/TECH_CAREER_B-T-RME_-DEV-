{
 "cells": [
  {
   "cell_type": "code",
   "execution_count": 1,
   "id": "76725e43-a2b2-4a95-9244-c5198464d6e8",
   "metadata": {},
   "outputs": [
    {
     "data": {
      "text/html": [
       "<div>\n",
       "<style scoped>\n",
       "    .dataframe tbody tr th:only-of-type {\n",
       "        vertical-align: middle;\n",
       "    }\n",
       "\n",
       "    .dataframe tbody tr th {\n",
       "        vertical-align: top;\n",
       "    }\n",
       "\n",
       "    .dataframe thead th {\n",
       "        text-align: right;\n",
       "    }\n",
       "</style>\n",
       "<table border=\"1\" class=\"dataframe\">\n",
       "  <thead>\n",
       "    <tr style=\"text-align: right;\">\n",
       "      <th></th>\n",
       "      <th>Country</th>\n",
       "      <th>Region</th>\n",
       "      <th>Population</th>\n",
       "      <th>Area (sq. mi.)</th>\n",
       "      <th>Pop. Density (per sq. mi.)</th>\n",
       "      <th>Coastline (coast/area ratio)</th>\n",
       "      <th>Net migration</th>\n",
       "      <th>Infant mortality (per 1000 births)</th>\n",
       "      <th>GDP ($ per capita)</th>\n",
       "      <th>Literacy (%)</th>\n",
       "      <th>Phones (per 1000)</th>\n",
       "      <th>Arable (%)</th>\n",
       "      <th>Crops (%)</th>\n",
       "      <th>Other (%)</th>\n",
       "      <th>Climate</th>\n",
       "      <th>Birthrate</th>\n",
       "      <th>Deathrate</th>\n",
       "      <th>Agriculture</th>\n",
       "      <th>Industry</th>\n",
       "      <th>Service</th>\n",
       "    </tr>\n",
       "  </thead>\n",
       "  <tbody>\n",
       "    <tr>\n",
       "      <th>0</th>\n",
       "      <td>Afghanistan</td>\n",
       "      <td>ASIA (EX. NEAR EAST)</td>\n",
       "      <td>31056997</td>\n",
       "      <td>647500</td>\n",
       "      <td>48,0</td>\n",
       "      <td>0,00</td>\n",
       "      <td>23,06</td>\n",
       "      <td>163,07</td>\n",
       "      <td>700.0</td>\n",
       "      <td>36,0</td>\n",
       "      <td>3,2</td>\n",
       "      <td>12,13</td>\n",
       "      <td>0,22</td>\n",
       "      <td>87,65</td>\n",
       "      <td>1</td>\n",
       "      <td>46,6</td>\n",
       "      <td>20,34</td>\n",
       "      <td>0,38</td>\n",
       "      <td>0,24</td>\n",
       "      <td>0,38</td>\n",
       "    </tr>\n",
       "    <tr>\n",
       "      <th>1</th>\n",
       "      <td>Albania</td>\n",
       "      <td>EASTERN EUROPE</td>\n",
       "      <td>3581655</td>\n",
       "      <td>28748</td>\n",
       "      <td>124,6</td>\n",
       "      <td>1,26</td>\n",
       "      <td>-4,93</td>\n",
       "      <td>21,52</td>\n",
       "      <td>4500.0</td>\n",
       "      <td>86,5</td>\n",
       "      <td>71,2</td>\n",
       "      <td>21,09</td>\n",
       "      <td>4,42</td>\n",
       "      <td>74,49</td>\n",
       "      <td>3</td>\n",
       "      <td>15,11</td>\n",
       "      <td>5,22</td>\n",
       "      <td>0,232</td>\n",
       "      <td>0,188</td>\n",
       "      <td>0,579</td>\n",
       "    </tr>\n",
       "    <tr>\n",
       "      <th>2</th>\n",
       "      <td>Algeria</td>\n",
       "      <td>NORTHERN AFRICA</td>\n",
       "      <td>32930091</td>\n",
       "      <td>2381740</td>\n",
       "      <td>13,8</td>\n",
       "      <td>0,04</td>\n",
       "      <td>-0,39</td>\n",
       "      <td>31</td>\n",
       "      <td>6000.0</td>\n",
       "      <td>70,0</td>\n",
       "      <td>78,1</td>\n",
       "      <td>3,22</td>\n",
       "      <td>0,25</td>\n",
       "      <td>96,53</td>\n",
       "      <td>1</td>\n",
       "      <td>17,14</td>\n",
       "      <td>4,61</td>\n",
       "      <td>0,101</td>\n",
       "      <td>0,6</td>\n",
       "      <td>0,298</td>\n",
       "    </tr>\n",
       "    <tr>\n",
       "      <th>3</th>\n",
       "      <td>American Samoa</td>\n",
       "      <td>OCEANIA</td>\n",
       "      <td>57794</td>\n",
       "      <td>199</td>\n",
       "      <td>290,4</td>\n",
       "      <td>58,29</td>\n",
       "      <td>-20,71</td>\n",
       "      <td>9,27</td>\n",
       "      <td>8000.0</td>\n",
       "      <td>97,0</td>\n",
       "      <td>259,5</td>\n",
       "      <td>10</td>\n",
       "      <td>15</td>\n",
       "      <td>75</td>\n",
       "      <td>2</td>\n",
       "      <td>22,46</td>\n",
       "      <td>3,27</td>\n",
       "      <td>NaN</td>\n",
       "      <td>NaN</td>\n",
       "      <td>NaN</td>\n",
       "    </tr>\n",
       "    <tr>\n",
       "      <th>4</th>\n",
       "      <td>Andorra</td>\n",
       "      <td>WESTERN EUROPE</td>\n",
       "      <td>71201</td>\n",
       "      <td>468</td>\n",
       "      <td>152,1</td>\n",
       "      <td>0,00</td>\n",
       "      <td>6,6</td>\n",
       "      <td>4,05</td>\n",
       "      <td>19000.0</td>\n",
       "      <td>100,0</td>\n",
       "      <td>497,2</td>\n",
       "      <td>2,22</td>\n",
       "      <td>0</td>\n",
       "      <td>97,78</td>\n",
       "      <td>3</td>\n",
       "      <td>8,71</td>\n",
       "      <td>6,25</td>\n",
       "      <td>NaN</td>\n",
       "      <td>NaN</td>\n",
       "      <td>NaN</td>\n",
       "    </tr>\n",
       "  </tbody>\n",
       "</table>\n",
       "</div>"
      ],
      "text/plain": [
       "           Country                               Region  Population  \\\n",
       "0     Afghanistan         ASIA (EX. NEAR EAST)             31056997   \n",
       "1         Albania   EASTERN EUROPE                          3581655   \n",
       "2         Algeria   NORTHERN AFRICA                        32930091   \n",
       "3  American Samoa   OCEANIA                                   57794   \n",
       "4         Andorra   WESTERN EUROPE                            71201   \n",
       "\n",
       "   Area (sq. mi.) Pop. Density (per sq. mi.) Coastline (coast/area ratio)  \\\n",
       "0          647500                       48,0                         0,00   \n",
       "1           28748                      124,6                         1,26   \n",
       "2         2381740                       13,8                         0,04   \n",
       "3             199                      290,4                        58,29   \n",
       "4             468                      152,1                         0,00   \n",
       "\n",
       "  Net migration Infant mortality (per 1000 births)  GDP ($ per capita)  \\\n",
       "0         23,06                             163,07               700.0   \n",
       "1         -4,93                              21,52              4500.0   \n",
       "2         -0,39                                 31              6000.0   \n",
       "3        -20,71                               9,27              8000.0   \n",
       "4           6,6                               4,05             19000.0   \n",
       "\n",
       "  Literacy (%) Phones (per 1000) Arable (%) Crops (%) Other (%) Climate  \\\n",
       "0         36,0               3,2      12,13      0,22     87,65       1   \n",
       "1         86,5              71,2      21,09      4,42     74,49       3   \n",
       "2         70,0              78,1       3,22      0,25     96,53       1   \n",
       "3         97,0             259,5         10        15        75       2   \n",
       "4        100,0             497,2       2,22         0     97,78       3   \n",
       "\n",
       "  Birthrate Deathrate Agriculture Industry Service  \n",
       "0      46,6     20,34        0,38     0,24    0,38  \n",
       "1     15,11      5,22       0,232    0,188   0,579  \n",
       "2     17,14      4,61       0,101      0,6   0,298  \n",
       "3     22,46      3,27         NaN      NaN     NaN  \n",
       "4      8,71      6,25         NaN      NaN     NaN  "
      ]
     },
     "execution_count": 1,
     "metadata": {},
     "output_type": "execute_result"
    }
   ],
   "source": [
    "import pandas as pd\n",
    "df = pd.read_csv(r\"C:\\Users\\Mustafa\\Downloads\\KAMP ÖDEV\\country.csv\")\n",
    "df.head()"
   ]
  },
  {
   "cell_type": "markdown",
   "id": "09c510ad-10c5-43c5-bc20-0f14eb3cd40d",
   "metadata": {},
   "source": [
    "Nüfusa göre azalan sırada ülkeleri listeleyin."
   ]
  },
  {
   "cell_type": "code",
   "execution_count": 5,
   "id": "cd7e3434-3929-4545-b305-19bb4b6cbb2f",
   "metadata": {},
   "outputs": [
    {
     "name": "stdout",
     "output_type": "stream",
     "text": [
      "                   Country                               Region  Population  \\\n",
      "42                  China         ASIA (EX. NEAR EAST)           1313973713   \n",
      "94                  India         ASIA (EX. NEAR EAST)           1095351995   \n",
      "214         United States   NORTHERN AMERICA                      298444215   \n",
      "95              Indonesia         ASIA (EX. NEAR EAST)            245452739   \n",
      "27                 Brazil               LATIN AMER. & CARIB       188078227   \n",
      "..                     ...                                  ...         ...   \n",
      "144                 Nauru   OCEANIA                                   13287   \n",
      "209                Tuvalu   OCEANIA                                   11810   \n",
      "140            Montserrat               LATIN AMER. & CARIB            9439   \n",
      "171          Saint Helena   SUB-SAHARAN AFRICA                         7502   \n",
      "174  St Pierre & Miquelon   NORTHERN AMERICA                           7026   \n",
      "\n",
      "     Area (sq. mi.) Pop. Density (per sq. mi.) Coastline (coast/area ratio)  \\\n",
      "42          9596960                      136,9                         0,15   \n",
      "94          3287590                      333,2                         0,21   \n",
      "214         9631420                       31,0                         0,21   \n",
      "95          1919440                      127,9                         2,85   \n",
      "27          8511965                       22,1                         0,09   \n",
      "..              ...                        ...                          ...   \n",
      "144              21                      632,7                       142,86   \n",
      "209              26                      454,2                        92,31   \n",
      "140             102                       92,5                        39,22   \n",
      "171             413                       18,2                        14,53   \n",
      "174             242                       29,0                        49,59   \n",
      "\n",
      "    Net migration Infant mortality (per 1000 births)  GDP ($ per capita)  \\\n",
      "42           -0,4                              24,18              5000.0   \n",
      "94          -0,07                              56,29              2900.0   \n",
      "214          3,41                                6,5             37800.0   \n",
      "95              0                               35,6              3200.0   \n",
      "27          -0,03                              29,61              7600.0   \n",
      "..            ...                                ...                 ...   \n",
      "144             0                               9,95              5000.0   \n",
      "209             0                              20,03              1100.0   \n",
      "140             0                               7,35              3400.0   \n",
      "171             0                                 19              2500.0   \n",
      "174         -4,86                               7,54              6900.0   \n",
      "\n",
      "    Literacy (%) Phones (per 1000) Arable (%) Crops (%) Other (%) Climate  \\\n",
      "42          90,9             266,7       15,4      1,25     83,35     1,5   \n",
      "94          59,5              45,4       54,4      2,74     42,86     2,5   \n",
      "214         97,0             898,0      19,13      0,22     80,65       3   \n",
      "95          87,9              52,0      11,32      7,23     81,45       2   \n",
      "27          86,4             225,3       6,96       0,9     92,15       2   \n",
      "..           ...               ...        ...       ...       ...     ...   \n",
      "144          NaN             143,0          0         0       100       2   \n",
      "209          NaN              59,3          0         0       100       2   \n",
      "140         97,0               NaN         20         0        80       2   \n",
      "171         97,0             293,3       12,9         0      87,1     NaN   \n",
      "174         99,0             683,2      13,04         0     86,96     NaN   \n",
      "\n",
      "    Birthrate Deathrate Agriculture Industry Service  \n",
      "42      13,25      6,97       0,125    0,473   0,403  \n",
      "94      22,01      8,18       0,186    0,276   0,538  \n",
      "214     14,14      8,26        0,01    0,204   0,787  \n",
      "95      20,34      6,25       0,134    0,458   0,408  \n",
      "27      16,56      6,17       0,084      0,4   0,516  \n",
      "..        ...       ...         ...      ...     ...  \n",
      "144     24,76       6,7         NaN      NaN     NaN  \n",
      "209     22,18      7,11       0,166    0,272   0,562  \n",
      "140     17,59       7,1         NaN      NaN     NaN  \n",
      "171     12,13      6,53         NaN      NaN     NaN  \n",
      "174     13,52      6,83         NaN      NaN     NaN  \n",
      "\n",
      "[227 rows x 20 columns]\n"
     ]
    }
   ],
   "source": [
    "#nüfusa göre sıralama yapılacağı için population sütunu ele alınır. oradaki bilgilere göre sıralama yapılır.\n",
    "siralama_by_nüfus = df.sort_values(by=\"Population\", ascending = False)\n",
    "#bu şekilde bırakırsak sıralanmış bir şekilde tüm dataframe i gösterir\n",
    "nüfusa_ayarli_df = pd.DataFrame(siralama_by_nüfus)\n",
    "print(nüfusa_ayarli_df)"
   ]
  },
  {
   "cell_type": "markdown",
   "id": "c29a01f6-b270-416c-8701-203984542653",
   "metadata": {},
   "source": [
    "Sonuçlara göre en az kalabalık olan ülke  St Pierre & Miquelon   NORTHERN AMERICA "
   ]
  },
  {
   "cell_type": "markdown",
   "id": "fd845c34-5436-4fb0-af52-7416d34fb7ef",
   "metadata": {},
   "source": [
    "GDP per capita’ya göre artan sırada ülkeleri listeleyin."
   ]
  },
  {
   "cell_type": "code",
   "execution_count": 8,
   "id": "670dd74f-cffa-4b0e-8bb8-e387e3f99dc2",
   "metadata": {},
   "outputs": [
    {
     "name": "stdout",
     "output_type": "stream",
     "text": [
      "             Country                               Region  Population  \\\n",
      "223  Western Sahara   NORTHERN AFRICA                          273008   \n",
      "58       East Timor         ASIA (EX. NEAR EAST)              1062777   \n",
      "183    Sierra Leone   SUB-SAHARAN AFRICA                      6005250   \n",
      "188         Somalia   SUB-SAHARAN AFRICA                      8863338   \n",
      "33          Burundi   SUB-SAHARAN AFRICA                      8090068   \n",
      "..               ...                                  ...         ...   \n",
      "38   Cayman Islands               LATIN AMER. & CARIB           45436   \n",
      "22          Bermuda   NORTHERN AMERICA                          65773   \n",
      "154          Norway   WESTERN EUROPE                          4610820   \n",
      "214   United States   NORTHERN AMERICA                      298444215   \n",
      "121      Luxembourg   WESTERN EUROPE                           474413   \n",
      "\n",
      "     Area (sq. mi.) Pop. Density (per sq. mi.) Coastline (coast/area ratio)  \\\n",
      "223          266000                        1,0                         0,42   \n",
      "58            15007                       70,8                         4,70   \n",
      "183           71740                       83,7                         0,56   \n",
      "188          637657                       13,9                         0,47   \n",
      "33            27830                      290,7                         0,00   \n",
      "..              ...                        ...                          ...   \n",
      "38              262                      173,4                        61,07   \n",
      "22               53                     1241,0                       194,34   \n",
      "154          323802                       14,2                         7,77   \n",
      "214         9631420                       31,0                         0,21   \n",
      "121            2586                      183,5                         0,00   \n",
      "\n",
      "    Net migration Infant mortality (per 1000 births)  GDP ($ per capita)  \\\n",
      "223           NaN                                NaN                 NaN   \n",
      "58              0                              47,41               500.0   \n",
      "183             0                             143,64               500.0   \n",
      "188          5,37                              116,7               500.0   \n",
      "33          -0,06                              69,29               600.0   \n",
      "..            ...                                ...                 ...   \n",
      "38          18,75                               8,19             35000.0   \n",
      "22           2,49                               8,53             36000.0   \n",
      "154          1,74                                3,7             37800.0   \n",
      "214          3,41                                6,5             37800.0   \n",
      "121          8,97                               4,81             55100.0   \n",
      "\n",
      "    Literacy (%) Phones (per 1000) Arable (%) Crops (%) Other (%) Climate  \\\n",
      "223          NaN               NaN       0,02         0     99,98       1   \n",
      "58          58,6               NaN       4,71      0,67     94,62       2   \n",
      "183         31,4               4,0       6,98      0,89     92,13       2   \n",
      "188         37,8              11,3       1,67      0,04     98,29       1   \n",
      "33          51,6               3,4      35,05     14,02     50,93       2   \n",
      "..           ...               ...        ...       ...       ...     ...   \n",
      "38          98,0             836,3       3,85         0     96,15       2   \n",
      "22          98,0             851,4         20         0        80       2   \n",
      "154        100,0             461,7       2,87         0     97,13       3   \n",
      "214         97,0             898,0      19,13      0,22     80,65       3   \n",
      "121        100,0             515,4      23,28       0,4     76,32     NaN   \n",
      "\n",
      "    Birthrate Deathrate Agriculture Industry Service  \n",
      "223       NaN       NaN         NaN      NaN     0,4  \n",
      "58      26,99      6,24       0,085    0,231   0,684  \n",
      "183     45,76     23,03        0,49     0,31    0,21  \n",
      "188     45,13     16,63        0,65      0,1    0,25  \n",
      "33      42,22     13,46       0,463    0,203   0,334  \n",
      "..        ...       ...         ...      ...     ...  \n",
      "38      12,74      4,89       0,014    0,032   0,954  \n",
      "22       11,4      7,74        0,01      0,1    0,89  \n",
      "154     11,46       9,4       0,021    0,415   0,564  \n",
      "214     14,14      8,26        0,01    0,204   0,787  \n",
      "121     11,94      8,41        0,01     0,13    0,86  \n",
      "\n",
      "[227 rows x 20 columns]\n"
     ]
    }
   ],
   "source": [
    "siralama_by_GDP = df.sort_values(by=\"GDP ($ per capita)\", ascending = True, na_position = \"first\")\n",
    "print(pd.DataFrame(siralama_by_GDP))"
   ]
  },
  {
   "cell_type": "code",
   "execution_count": null,
   "id": "80cdeb49-7bc4-4061-afc3-930e1c612d32",
   "metadata": {},
   "outputs": [],
   "source": [
    "Çıkan sonuçlara göre GDP değeri en yüksek olan şehir Luxembourg   WESTERN EUROPE  "
   ]
  },
  {
   "cell_type": "markdown",
   "id": "4d2bb5bc-e331-4770-a6e4-d55470d65ef6",
   "metadata": {},
   "source": [
    "Literacy oranına göre en yüksek ilk 5 ülkeyi seçiniz."
   ]
  },
  {
   "cell_type": "code",
   "execution_count": 10,
   "id": "cf40b475-a639-4753-8a3c-d586f7b0f1a6",
   "metadata": {},
   "outputs": [
    {
     "name": "stdout",
     "output_type": "stream",
     "text": [
      "             Country Literacy (%)\n",
      "53   Czech Republic          99,9\n",
      "93          Iceland          99,9\n",
      "163          Poland          99,8\n",
      "114          Latvia          99,8\n",
      "64          Estonia          99,8\n"
     ]
    }
   ],
   "source": [
    "siralama_by_literacy = df.sort_values(by=\"Literacy (%)\", ascending = False)\n",
    "print(siralama_by_literacy[[\"Country\", \"Literacy (%)\"]].head())"
   ]
  },
  {
   "cell_type": "markdown",
   "id": "4e757dfd-b1e3-4fdf-9da4-4bcf4e79cc34",
   "metadata": {},
   "source": [
    "Okuma oranı en yüksek olan 5 ülke Czech Republic, Iceland, Poland, Latvia, Estonia.          \n",
    "  "
   ]
  },
  {
   "cell_type": "markdown",
   "id": "d925a168-b1c5-43b9-bf0d-76abd42ee819",
   "metadata": {},
   "source": [
    "GDP per capita > 10.000 olan ülkeleri filtreleyin."
   ]
  },
  {
   "cell_type": "code",
   "execution_count": 13,
   "id": "774bf8d3-d6e9-462e-8cf2-d70db747c144",
   "metadata": {},
   "outputs": [
    {
     "name": "stdout",
     "output_type": "stream",
     "text": [
      "Varlıklı ülke sayısı 201\n",
      "           Country  GDP ($ per capita)\n",
      "1         Albania               4500.0\n",
      "2         Algeria               6000.0\n",
      "3  American Samoa               8000.0\n",
      "4         Andorra              19000.0\n",
      "5          Angola               1900.0\n"
     ]
    }
   ],
   "source": [
    "varlikli_ülke = df[df['GDP ($ per capita)'] > 1000]\n",
    "print(f\"Varlıklı ülke sayısı {len(varlikli_ülke)}\")\n",
    "print(varlikli_ülke[['Country', 'GDP ($ per capita)']].head())"
   ]
  },
  {
   "cell_type": "code",
   "execution_count": null,
   "id": "275b9aff-9bb0-4308-81e4-70d75afd7fc3",
   "metadata": {},
   "outputs": [],
   "source": [
    "Çıkan sonuçlara göre en yüksek gelire sahip beş üşle albania, algeria, american samoa, andorra, angola."
   ]
  },
  {
   "cell_type": "markdown",
   "id": "9319e554-3b85-4605-a243-b59f93405d03",
   "metadata": {},
   "source": [
    "Nüfus yoğunluğu en yüksek ilk 10 ülkeyi bulun."
   ]
  },
  {
   "cell_type": "code",
   "execution_count": 14,
   "id": "b3492b48-5343-4a9c-9938-1a952fc76f8e",
   "metadata": {},
   "outputs": [
    {
     "name": "stdout",
     "output_type": "stream",
     "text": [
      "                   Country Pop. Density (per sq. mi.)\n",
      "9                 Armenia                        99,9\n",
      "186              Slovenia                        99,2\n",
      "202                  Togo                        97,7\n",
      "12                Austria                        97,7\n",
      "168               Romania                        93,9\n",
      "..                     ...                        ...\n",
      "46   Congo, Repub. of the                        10,8\n",
      "207          Turkmenistan                        10,3\n",
      "139              Mongolia                         1,8\n",
      "223        Western Sahara                         1,0\n",
      "80              Greenland                         0,0\n",
      "\n",
      "[227 rows x 2 columns]\n"
     ]
    }
   ],
   "source": [
    "#nüfus yoğunluğuna göre sıralama\n",
    "siralama_by_nufus_yogunluk = df.sort_values(by='Pop. Density (per sq. mi.)', ascending=False)\n",
    "print(siralama_by_nufus_yogunluk[['Country', 'Pop. Density (per sq. mi.)']])"
   ]
  },
  {
   "cell_type": "code",
   "execution_count": null,
   "id": "347e5906-1d8e-404e-a70a-b1d637562395",
   "metadata": {},
   "outputs": [],
   "source": [
    "nüfus yoğunluğu en yüksek olan ilk 10 ülke: \n",
    " Armenia, Togo, Austria, Romania,Congo, Turkmenistan,Mongolia,Western Sahara, Greenland                     \n",
    "                         "
   ]
  }
 ],
 "metadata": {
  "kernelspec": {
   "display_name": "Python [tf]",
   "language": "python",
   "name": "tf"
  },
  "language_info": {
   "codemirror_mode": {
    "name": "ipython",
    "version": 3
   },
   "file_extension": ".py",
   "mimetype": "text/x-python",
   "name": "python",
   "nbconvert_exporter": "python",
   "pygments_lexer": "ipython3",
   "version": "3.9.21"
  }
 },
 "nbformat": 4,
 "nbformat_minor": 5
}
